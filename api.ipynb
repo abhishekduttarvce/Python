{
 "cells": [
  {
   "cell_type": "code",
   "execution_count": null,
   "id": "3fdfa689",
   "metadata": {},
   "outputs": [],
   "source": [
    "# !pip install flask flask-restful"
   ]
  },
  {
   "cell_type": "code",
   "execution_count": null,
   "id": "2e9fa3a6",
   "metadata": {},
   "outputs": [],
   "source": [
    "from flask import Flask"
   ]
  },
  {
   "cell_type": "code",
   "execution_count": null,
   "id": "1688dec1",
   "metadata": {},
   "outputs": [],
   "source": [
    "from flask_restful import Resource, Api, reqparse"
   ]
  },
  {
   "cell_type": "code",
   "execution_count": null,
   "id": "13042c8d",
   "metadata": {},
   "outputs": [],
   "source": [
    "import pandas as pd"
   ]
  },
  {
   "cell_type": "code",
   "execution_count": null,
   "id": "47d96932",
   "metadata": {},
   "outputs": [],
   "source": [
    "import ast"
   ]
  },
  {
   "cell_type": "code",
   "execution_count": null,
   "id": "9ec0b6f0",
   "metadata": {},
   "outputs": [],
   "source": [
    "app = Flask(__name__)\n",
    "api = Api(app)\n",
    "#/users\n",
    "\n",
    "#/locations\n",
    "\n",
    "class Users(Resource):\n",
    "    def get(self):\n",
    "        data = pd.read_csv(r\"C:\\Users\\Omistaja\\Python\\users.csv\")\n",
    "        data = data.to_dict()\n",
    "        return{'data':data},200\n",
    "    \n",
    "    def post(self):\n",
    "#        try:\n",
    "#           parser = reqparse.RequestParser()\n",
    "#           parser.add_argument('locationId', required=True, type=int)\n",
    "#           parser.add_argument('name', required=True, type=str)\n",
    "#           parser.add_argument('city', required=True, type=str)\n",
    "#           args = parser.parse_args()\n",
    "#           return{\n",
    "#               'loc': args['locationId'],\n",
    "#               'name': args['name'],\n",
    "#               'city': args['city']\n",
    "#              },200\n",
    "            parser = reqparse.RequestParser()\n",
    "            parser.add_argument('userId', required=True, type=int)\n",
    "            parser.add_argument('name', required=True, type=str)\n",
    "            parser.add_argument('city', required=True, type=str)\n",
    "            args = parser.parse_args()\n",
    "            \n",
    "            data = pd.read_csv(r\"C:\\Users\\Omistaja\\Python\\users.csv\")\n",
    "            \n",
    "            if args['userId'] in data['userId']:\n",
    "                 return {\n",
    "                    'message': f\"'{args['userId']}' already exists\" \n",
    "                 },409\n",
    "            else:\n",
    "                data = data.append({\n",
    "                    'userId': args['userId'],\n",
    "                    'name': args['name'],\n",
    "                    'city': args['city'],\n",
    "                    'locations': []\n",
    "                     }, ignore_index=True)\n",
    "                data.to_csv(r\"C:\\Users\\Omistaja\\Python\\users.csv\", index=False)\n",
    "                return {'data':data.to_dict()},200\n",
    "        \n",
    "#        except Exception as e:\n",
    "#            return {\n",
    "#                'message' : str(e)\n",
    "#            }, 400\n",
    "    def delete(self):\n",
    "            parser = reqparse.RequestParser()\n",
    "            parser.add_argument('userId', required=True, type=int)\n",
    "            args = parser.parse_args()\n",
    "            \n",
    "            data = pd.read_csv(r\"C:\\Users\\Omistaja\\Python\\users.csv\")\n",
    "            \n",
    "            if args['userId'] in data['userId']:\n",
    "                data = data [data['userId']  != args ['userId'] ]\n",
    "                data.to_csv(r\"C:\\Users\\Omistaja\\Python\\users.csv\", index=False)\n",
    "                return {'data':data.to_dict()},200\n",
    "            else :\n",
    "                return {\n",
    "                    'message': f\"'{args['userId']}' doesnot exists!\"\n",
    "                    },404   \n",
    "                    \n",
    "class Locations(Resource):\n",
    "    pass\n",
    "    \n",
    "api.add_resource(Users, '/users')\n",
    "api.add_resource(Locations,'/locations')\n",
    "\n",
    "if __name__ ==\"__main__\":\n",
    "    app.run()\n",
    "    "
   ]
  },
  {
   "cell_type": "code",
   "execution_count": null,
   "id": "a0fbf270",
   "metadata": {},
   "outputs": [],
   "source": []
  }
 ],
 "metadata": {
  "kernelspec": {
   "display_name": "Python 3 (ipykernel)",
   "language": "python",
   "name": "python3"
  },
  "language_info": {
   "codemirror_mode": {
    "name": "ipython",
    "version": 3
   },
   "file_extension": ".py",
   "mimetype": "text/x-python",
   "name": "python",
   "nbconvert_exporter": "python",
   "pygments_lexer": "ipython3",
   "version": "3.9.12"
  }
 },
 "nbformat": 4,
 "nbformat_minor": 5
}
