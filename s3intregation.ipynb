{
 "cells": [
  {
   "cell_type": "code",
   "execution_count": null,
   "id": "4a961351",
   "metadata": {},
   "outputs": [],
   "source": [
    "#pip install boto3"
   ]
  },
  {
   "cell_type": "code",
   "execution_count": null,
   "id": "121c89bf",
   "metadata": {},
   "outputs": [],
   "source": [
    "# current work directory\n",
    "import os\n",
    "os.getcwd()"
   ]
  },
  {
   "cell_type": "code",
   "execution_count": null,
   "id": "2b96da70",
   "metadata": {},
   "outputs": [],
   "source": [
    "import boto3\n",
    "s3 = boto3.resource(\n",
    "    service_name='s3',\n",
    "    region_name='us-east-1',\n",
    "    aws_access_key_id='XXXXXXXXX',\n",
    "    aws_secret_access_key='XXXXXXXX'\n",
    ")"
   ]
  },
  {
   "cell_type": "code",
   "execution_count": null,
   "id": "5660f060",
   "metadata": {},
   "outputs": [],
   "source": [
    "# Print out bucket names\n",
    "for bucket in s3.buckets.all():\n",
    "    print(bucket.name)"
   ]
  },
  {
   "cell_type": "code",
   "execution_count": null,
   "id": "266b2566",
   "metadata": {},
   "outputs": [],
   "source": [
    "# list all the objects in our bucket\n",
    "for obj in s3.Bucket('abhishek2022-ccp').objects.all():\n",
    "    print(obj)"
   ]
  },
  {
   "cell_type": "code",
   "execution_count": null,
   "id": "01e55f68",
   "metadata": {},
   "outputs": [],
   "source": [
    "# list all the objects in our bucket\n",
    "for obj in s3.Bucket('abhishek-dutta-03').objects.all():\n",
    "    print(obj)"
   ]
  },
  {
   "cell_type": "code",
   "execution_count": null,
   "id": "242e9f91",
   "metadata": {},
   "outputs": [],
   "source": [
    "# list all the objects in our bucket\n",
    "for obj in s3.Bucket('abhishek-dutta-02').objects.all():\n",
    "    print(obj)"
   ]
  },
  {
   "cell_type": "code",
   "execution_count": null,
   "id": "3bb27343",
   "metadata": {},
   "outputs": [],
   "source": [
    "# list all the objects in our bucket.\n",
    "for obj in s3.Bucket('abhishek2022-ccp').objects.all():\n",
    "    print(obj)"
   ]
  },
  {
   "cell_type": "code",
   "execution_count": null,
   "id": "fd92bb1f",
   "metadata": {},
   "outputs": [],
   "source": [
    "# uploading CSV file to S3\n",
    "#s3 = boto3.resource('s3')\n",
    "#bucket = s3.Bucket('abhishek2022-ccp')\n",
    "s3.Object('abhishek2022-ccp', 'portfolio.csv').put(Body=open('C:\\\\Users\\\\Omistaja\\\\Python\\\\portfolio.csv', 'rb'))"
   ]
  },
  {
   "cell_type": "code",
   "execution_count": null,
   "id": "b03d429a",
   "metadata": {},
   "outputs": [],
   "source": []
  }
 ],
 "metadata": {
  "kernelspec": {
   "display_name": "Python 3 (ipykernel)",
   "language": "python",
   "name": "python3"
  },
  "language_info": {
   "codemirror_mode": {
    "name": "ipython",
    "version": 3
   },
   "file_extension": ".py",
   "mimetype": "text/x-python",
   "name": "python",
   "nbconvert_exporter": "python",
   "pygments_lexer": "ipython3",
   "version": "3.9.12"
  }
 },
 "nbformat": 4,
 "nbformat_minor": 5
}
