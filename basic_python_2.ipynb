{
 "cells": [
  {
   "cell_type": "code",
   "execution_count": null,
   "id": "8397994e",
   "metadata": {},
   "outputs": [],
   "source": [
    "#functions\n",
    "def nameit():\n",
    "    print(\"Hello\")\n",
    "    \n",
    "nameit()"
   ]
  },
  {
   "cell_type": "code",
   "execution_count": null,
   "id": "db7f8f10",
   "metadata": {},
   "outputs": [],
   "source": [
    "def nameit_name(first_name, last_name):\n",
    "    print(\"Hello   \" + first_name + \" \" + last_name)\n",
    "nameit_name(\"Abhishek\", \"Dutta\")"
   ]
  },
  {
   "cell_type": "code",
   "execution_count": null,
   "id": "6fcf783d",
   "metadata": {},
   "outputs": [],
   "source": [
    "def math1(num1,num2):\n",
    "    print(num1 + num2)\n",
    "math1(9,1)"
   ]
  },
  {
   "cell_type": "code",
   "execution_count": null,
   "id": "331e3208",
   "metadata": {},
   "outputs": [],
   "source": [
    "def math3(num1,num2):\n",
    "    return(num1 + num2)\n",
    "print(math3(9,1))"
   ]
  },
  {
   "cell_type": "code",
   "execution_count": null,
   "id": "acc8bfe5",
   "metadata": {},
   "outputs": [],
   "source": [
    "import namer\n",
    "namer.nameit(\"Abhishek\")"
   ]
  },
  {
   "cell_type": "code",
   "execution_count": null,
   "id": "24bfa439",
   "metadata": {},
   "outputs": [],
   "source": [
    "from namer import nameit\n",
    "nameit(\"Dutta\")"
   ]
  },
  {
   "cell_type": "code",
   "execution_count": null,
   "id": "8448f8bf",
   "metadata": {},
   "outputs": [],
   "source": [
    "#SQLlite Database\n",
    "import sqlite3"
   ]
  },
  {
   "cell_type": "code",
   "execution_count": null,
   "id": "8d1c8c64",
   "metadata": {},
   "outputs": [],
   "source": [
    "conn =sqlite3.connect('customer_n.db')"
   ]
  },
  {
   "cell_type": "code",
   "execution_count": null,
   "id": "d0553586",
   "metadata": {},
   "outputs": [],
   "source": [
    "c = conn.cursor()\n",
    "c.execute(\"\"\"Create Table customer (\n",
    "            first_name text,\n",
    "            last_name test,\n",
    "            email text\n",
    "            )\"\"\")\n",
    "\n",
    "conn.commit()"
   ]
  },
  {
   "cell_type": "code",
   "execution_count": null,
   "id": "01c46578",
   "metadata": {},
   "outputs": [],
   "source": [
    "c.execute(\"insert into customer values('Abhishek','Dutta','abhishek.dutta@xxxx.com')\")\n",
    "conn.commit()"
   ]
  },
  {
   "cell_type": "code",
   "execution_count": null,
   "id": "1b8f7bbd",
   "metadata": {},
   "outputs": [],
   "source": [
    "c.execute(\"Select * from customer\")"
   ]
  },
  {
   "cell_type": "code",
   "execution_count": null,
   "id": "0e42cd09",
   "metadata": {},
   "outputs": [],
   "source": [
    "print(c.fetchall())"
   ]
  },
  {
   "cell_type": "code",
   "execution_count": null,
   "id": "5fefc6bd",
   "metadata": {},
   "outputs": [],
   "source": [
    "print(c.fetchall()[0][0])"
   ]
  },
  {
   "cell_type": "code",
   "execution_count": null,
   "id": "f8ff22a5",
   "metadata": {},
   "outputs": [],
   "source": [
    "c.execute(\"insert into customer values('Abhishek','Dutta','abhishek.dutta@xxxx.com')\")\n",
    "conn.commit()\n",
    "c.execute(\"Select * from customer\")\n",
    "items = c.fetchall()\n",
    "for item in items:\n",
    "    print(item) "
   ]
  },
  {
   "cell_type": "code",
   "execution_count": 1,
   "id": "dfb3575f",
   "metadata": {},
   "outputs": [],
   "source": [
    "#Tkinter GUI\n",
    "from tkinter import *"
   ]
  },
  {
   "cell_type": "code",
   "execution_count": 17,
   "id": "b9a13a1e",
   "metadata": {},
   "outputs": [],
   "source": [
    "root = Tk()\n",
    "root.title('Basic Python Coding')\n",
    "root.geometry(\"400x600\")\n",
    "\n",
    "def hello():\n",
    "    hello_lable = Label(root , text =\"Hello \" + myTextbox.get())\n",
    "    hello_lable.pack()\n",
    "    \n",
    "    \n",
    "myLable = Label(root,text=\"Enter your first name:\")\n",
    "myLable.pack()\n",
    "\n",
    "myTextbox = Entry(root, width=30)\n",
    "myTextbox.pack()\n",
    "\n",
    "myButton = Button(root, text=\"submit\",command= hello)\n",
    "myButton.pack()\n",
    "\n",
    "root.mainloop()"
   ]
  },
  {
   "cell_type": "code",
   "execution_count": null,
   "id": "0ec0c49b",
   "metadata": {},
   "outputs": [],
   "source": []
  }
 ],
 "metadata": {
  "kernelspec": {
   "display_name": "Python 3 (ipykernel)",
   "language": "python",
   "name": "python3"
  },
  "language_info": {
   "codemirror_mode": {
    "name": "ipython",
    "version": 3
   },
   "file_extension": ".py",
   "mimetype": "text/x-python",
   "name": "python",
   "nbconvert_exporter": "python",
   "pygments_lexer": "ipython3",
   "version": "3.9.12"
  }
 },
 "nbformat": 4,
 "nbformat_minor": 5
}
