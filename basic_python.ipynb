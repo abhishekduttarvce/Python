{
 "cells": [
  {
   "cell_type": "code",
   "execution_count": null,
   "id": "a3853eaf",
   "metadata": {},
   "outputs": [],
   "source": [
    "#import os\n",
    "#os.system('clear')"
   ]
  },
  {
   "cell_type": "code",
   "execution_count": null,
   "id": "b698f467",
   "metadata": {},
   "outputs": [],
   "source": [
    "#hello word\n",
    "print(\"Hello World\")"
   ]
  },
  {
   "cell_type": "code",
   "execution_count": null,
   "id": "280ac743",
   "metadata": {},
   "outputs": [],
   "source": [
    "#Variable\n",
    "full_name=\"Abhishek Dutta\"\n",
    "print(full_name)\n",
    "full_name=\"Dutta Abhishek\"\n",
    "print(full_name)"
   ]
  },
  {
   "cell_type": "code",
   "execution_count": null,
   "id": "32ad91f8",
   "metadata": {},
   "outputs": [],
   "source": [
    "#Data Types-Strings, Numbers, Lists,Tuples, Dictiories, Boolean\n",
    "#List\n",
    "details= [\"Abhishek\", \"Malobika\", \"Tina\"]\n",
    "print(details[0])\n",
    "print(details)"
   ]
  },
  {
   "cell_type": "code",
   "execution_count": null,
   "id": "be9ed5d0",
   "metadata": {},
   "outputs": [],
   "source": [
    "#Tuple\n",
    "details_t=(\"Abhishek\", \"Malobika\", \"Tina\")\n",
    "print(details_t)\n",
    "print(details_t[0])"
   ]
  },
  {
   "cell_type": "code",
   "execution_count": null,
   "id": "cca7400b",
   "metadata": {},
   "outputs": [],
   "source": [
    "#dictonary\n",
    "fav_pizza = {\n",
    "    \"Abhishek\": \"Crickert\",\n",
    "    \"Malobika\" : \"Football\",\n",
    "    \"Tina\" : \"Basketball\"\n",
    "}\n",
    "print(fav_pizza[\"Abhishek\"])"
   ]
  },
  {
   "cell_type": "code",
   "execution_count": null,
   "id": "6b80a8f6",
   "metadata": {},
   "outputs": [],
   "source": [
    "#strings in details\n",
    "greetings ='Greeting of the day- \"Life is beautiful\"'\n",
    "print(greetings)\n",
    "greetings1 =\"Greeting of the day- 'Life is beautiful'\"\n",
    "print(greetings1)\n",
    "greetings2 =\"Greeting of the day- \\\"Life is beautiful\\\"\"\n",
    "print(greetings2)\n",
    "name=\"Abhishek\"\n",
    "greetings3 =\"Hello,my name is \" + name\n",
    "print(greetings3)\n",
    "print(greetings3.upper())\n",
    "greetings4 = \"hello my name is \" + name\n",
    "print(greetings3.capitalize())\n",
    "print(greetings3.title())\n",
    "print(greetings3.swapcase())\n",
    "print(len(greetings3))\n",
    "print(greetings3[14])\n",
    "print(greetings3[14:16])\n",
    "print(greetings4.split(\" \"))\n",
    "print(greetings4.split(\" \")[4])\n",
    "print(greetings4.split(\" \")[2:4])"
   ]
  },
  {
   "cell_type": "code",
   "execution_count": 4,
   "id": "3bc096f7",
   "metadata": {},
   "outputs": [
    {
     "name": "stdout",
     "output_type": "stream",
     "text": [
      "10.0\n",
      "10\n",
      "5\n",
      "1\n"
     ]
    }
   ],
   "source": [
    "#Number and Math in details\n",
    "num=10\n",
    "print(float(num))\n",
    "num1=10.2\n",
    "print(int(num1))\n",
    "print(7-2)\n",
    "print(10%3)"
   ]
  },
  {
   "cell_type": "code",
   "execution_count": 26,
   "id": "a71f8045",
   "metadata": {},
   "outputs": [
    {
     "name": "stdout",
     "output_type": "stream",
     "text": [
      "['West', 'Bob', 'Tina']\n",
      "['West', 'Bob', 'Tina', 'Ihina']\n",
      "Ihina\n",
      "18\n",
      "['John', 'Bob', 'Tina', 'ABD']\n",
      "['John', 'Bob', 'Tina', 'ABD', [1, 2, 3]]\n",
      "1\n",
      "12\n",
      "12\n",
      "5\n",
      "ABD\n"
     ]
    }
   ],
   "source": [
    "#List in details\n",
    "names =[\"John\",\"Bob\",\"Tina\"]\n",
    "names[0]=\"West\"\n",
    "print(names)\n",
    "names.append(\"Ihina\")\n",
    "print(names)\n",
    "print(names[3])\n",
    "names_2=[\"John\",\"Bob\",\"Tina\", 9]\n",
    "print(names_2[3]+9)\n",
    "other_name=\"ABD\"\n",
    "names_3 =[\"John\",\"Bob\",\"Tina\",other_name]\n",
    "print(names_3)\n",
    "num_s= [1,2,3]\n",
    "names_3 =[\"John\",\"Bob\",\"Tina\",other_name,num_s]\n",
    "print(names_3)\n",
    "print(names_3[4][0])\n",
    "print(names_3[4][0] + 11)\n",
    "num_str=[\"1\",\"2\",\"3\"]\n",
    "print(int(names_3[4][0]) + 11)\n",
    "print(len(names_3))\n",
    "print(names_3[len(names_3)-2])"
   ]
  },
  {
   "cell_type": "code",
   "execution_count": 6,
   "id": "9e013b93",
   "metadata": {},
   "outputs": [
    {
     "name": "stdout",
     "output_type": "stream",
     "text": [
      "John\n",
      "('John', 'Bob', 'Tina')\n",
      "('John', 'Bob', 'Tina', 'Mary')\n",
      "('John', 'Bob')\n",
      "('John', 'Bob')\n"
     ]
    }
   ],
   "source": [
    "#Tuples details\n",
    "names =(\"John\",\"Bob\",\"Tina\")\n",
    "print(names[0])\n",
    "print(names)\n",
    "tuple1 = (\"John\",\"Bob\",\"Tina\")\n",
    "tuple2 = (\"Mary\",)\n",
    "tuple3 = tuple1 + tuple2\n",
    "print(tuple3)\n",
    "print(tuple1[0:2])\n",
    "tuple4 = tuple1[0:2]\n",
    "print(tuple4)"
   ]
  },
  {
   "cell_type": "code",
   "execution_count": 21,
   "id": "b842e872",
   "metadata": {},
   "outputs": [
    {
     "name": "stdout",
     "output_type": "stream",
     "text": [
      "{'John': 'Peparoni', 'Tim': 'Sausage', 'Mary': 'Cheese'}\n",
      "Peparoni\n",
      "{'Tim': 'Sausage', 'Mary': 'Cheese'}\n",
      "{'Tim': 'Sausage', 'Mary': 'Cheese', 'Tina': 'Green Peppers'}\n",
      "{'Tim': 'Sausage', 'Mary': 'Cheese', 'Tina': 'Chicken'}\n",
      "[3]\n"
     ]
    }
   ],
   "source": [
    "#Dictionary details\n",
    "favourite_pizza = {\n",
    "    \"John\": \"Peparoni\",\n",
    "    \"Tim\" : \"Sausage\",\n",
    "    \"Mary\":\"Cheese\",\n",
    "}\n",
    "print(favourite_pizza)\n",
    "print(favourite_pizza[\"John\"])\n",
    "del (favourite_pizza[\"John\"])\n",
    "print(favourite_pizza)\n",
    "favourite_pizza.update({\"Tina\":\"Green Peppers\"})\n",
    "print(favourite_pizza)\n",
    "favourite_pizza[\"Tina\"] = \"Chicken\"\n",
    "print(favourite_pizza)\n",
    "favourite_pizza_1 = {\n",
    "    \"John\": [1,2,3,4,5],\n",
    "    \"Tim\" : \"Sausage\",\n",
    "    \"Mary\":\"Cheese\",\n",
    "}\n",
    "print(favourite_pizza_1[\"John\"][2])"
   ]
  },
  {
   "cell_type": "code",
   "execution_count": 22,
   "id": "874f7863",
   "metadata": {},
   "outputs": [
    {
     "name": "stdout",
     "output_type": "stream",
     "text": [
      "42\n"
     ]
    }
   ],
   "source": [
    "#Assignment Operators\n",
    "num =41\n",
    "num +=1\n",
    "print(num)"
   ]
  },
  {
   "cell_type": "code",
   "execution_count": 1,
   "id": "711f9aab",
   "metadata": {},
   "outputs": [
    {
     "name": "stdout",
     "output_type": "stream",
     "text": [
      "False\n"
     ]
    }
   ],
   "source": [
    "#Comparison Operators\n",
    "print([1,2,3,4,5] == [2,3,4,1,5])"
   ]
  },
  {
   "cell_type": "code",
   "execution_count": 7,
   "id": "368afa2c",
   "metadata": {},
   "outputs": [
    {
     "name": "stdout",
     "output_type": "stream",
     "text": [
      "Your Number is equal to 10!\n"
     ]
    }
   ],
   "source": [
    "#Conditional Statements\n",
    "#if/Else/Elif\n",
    "num = 10\n",
    "if (num > 10):\n",
    "    print(\"Your Number is greater than 10!\")\n",
    "elif (num == 10):\n",
    "    print(\"Your Number is equal to 10!\")\n",
    "else:\n",
    "    print(\"Your Number is lesser than 10!\")"
   ]
  },
  {
   "cell_type": "code",
   "execution_count": 8,
   "id": "ada0b5f2",
   "metadata": {},
   "outputs": [
    {
     "name": "stdout",
     "output_type": "stream",
     "text": [
      "Your number is Greater than 10 or greater than 100\n"
     ]
    }
   ],
   "source": [
    "#Multiple Conditional Statements\n",
    "num = 20\n",
    "if (num > 10) and (num > 100) :\n",
    "    print (\"Your number is Greater than 10 and greater than 100\")\n",
    "if (num > 10) or (num > 100) :\n",
    "    print (\"Your number is Greater than 10 or greater than 100\")\n"
   ]
  },
  {
   "cell_type": "code",
   "execution_count": 11,
   "id": "b141d600",
   "metadata": {},
   "outputs": [
    {
     "name": "stdout",
     "output_type": "stream",
     "text": [
      "The counter is 0\n",
      "The counter is 1\n",
      "The counter is 2\n",
      "The counter is 3\n",
      "The counter is 4\n",
      "The counter is 5\n",
      "The counter is 6\n",
      "The counter is 7\n",
      "The counter is 8\n",
      "The counter is 9\n",
      "The counter is 10\n"
     ]
    }
   ],
   "source": [
    "#while loop\n",
    "counter = 0\n",
    "while (counter <= 10):\n",
    "    print (\"The counter is \" + str(counter))\n",
    "    counter += 1"
   ]
  },
  {
   "cell_type": "code",
   "execution_count": 19,
   "id": "7ce7e9eb",
   "metadata": {},
   "outputs": [
    {
     "name": "stdout",
     "output_type": "stream",
     "text": [
      "A\n",
      "b\n",
      "h\n",
      "i\n",
      "s\n",
      "h\n",
      "e\n",
      "k\n",
      "John\n",
      "Bob\n",
      "Mary\n",
      "John likes  Peparoni\n",
      "Tim likes  Sausage\n",
      "Mary likes  Cheese\n"
     ]
    }
   ],
   "source": [
    "#for loop\n",
    "name = \"Abhishek\"\n",
    "for x in name:\n",
    "    print(x)\n",
    "    \n",
    "names = [\"John\" , \"Bob\" , \"Mary\"]\n",
    "for name in names:\n",
    "    print(name)\n",
    "    \n",
    "favourite_pizza = {\n",
    "    \"John\": \"Peparoni\",\n",
    "    \"Tim\" : \"Sausage\",\n",
    "    \"Mary\":\"Cheese\",\n",
    "}\n",
    "\n",
    "for key,value in favourite_pizza.items():\n",
    "    print(key +'likes'+ value)\n",
    "    "
   ]
  },
  {
   "cell_type": "code",
   "execution_count": 8,
   "id": "6a7a6f63",
   "metadata": {},
   "outputs": [
    {
     "name": "stdout",
     "output_type": "stream",
     "text": [
      "1.\n",
      "2.\n",
      "3Fizz!\n",
      "4.\n",
      "5Buzz!\n",
      "6Fizz!\n",
      "7.\n",
      "8.\n",
      "9Fizz!\n",
      "10Buzz!\n",
      "11.\n",
      "12Fizz!\n",
      "13.\n",
      "14.\n",
      "15Fizzbuzz!\n",
      "16.\n",
      "17.\n",
      "18Fizz!\n",
      "19.\n",
      "20Buzz!\n",
      "21Fizz!\n",
      "22.\n",
      "23.\n",
      "24Fizz!\n",
      "25Buzz!\n",
      "26.\n",
      "27Fizz!\n",
      "28.\n",
      "29.\n",
      "30Fizzbuzz!\n",
      "31.\n",
      "32.\n",
      "33Fizz!\n",
      "34.\n",
      "35Buzz!\n",
      "36Fizz!\n",
      "37.\n",
      "38.\n",
      "39Fizz!\n",
      "40Buzz!\n",
      "41.\n",
      "42Fizz!\n",
      "43.\n",
      "44.\n",
      "45Fizzbuzz!\n",
      "46.\n",
      "47.\n",
      "48Fizz!\n",
      "49.\n",
      "50Buzz!\n",
      "51Fizz!\n",
      "52.\n",
      "53.\n",
      "54Fizz!\n",
      "55Buzz!\n",
      "56.\n",
      "57Fizz!\n",
      "58.\n",
      "59.\n",
      "60Fizzbuzz!\n",
      "61.\n",
      "62.\n",
      "63Fizz!\n",
      "64.\n",
      "65Buzz!\n",
      "66Fizz!\n",
      "67.\n",
      "68.\n",
      "69Fizz!\n",
      "70Buzz!\n",
      "71.\n",
      "72Fizz!\n",
      "73.\n",
      "74.\n",
      "75Fizzbuzz!\n",
      "76.\n",
      "77.\n",
      "78Fizz!\n",
      "79.\n",
      "80Buzz!\n",
      "81Fizz!\n",
      "82.\n",
      "83.\n",
      "84Fizz!\n",
      "85Buzz!\n",
      "86.\n",
      "87Fizz!\n",
      "88.\n",
      "89.\n",
      "90Fizzbuzz!\n",
      "91.\n",
      "92.\n",
      "93Fizz!\n",
      "94.\n",
      "95Buzz!\n",
      "96Fizz!\n",
      "97.\n",
      "98.\n",
      "99Fizz!\n",
      "100Buzz!\n",
      "Total number of fizzbuzz = 6\n",
      "Total number of fizz     = 27\n",
      "Total number of buzz     = 14\n"
     ]
    }
   ],
   "source": [
    "#Fixbuzz\n",
    "num = 1\n",
    "count_fizz=0\n",
    "count_buzz=0\n",
    "count_fizzbuzz=0\n",
    "while num <= 100:\n",
    "    if   (num % 3 == 0) and (num % 5 == 0):\n",
    "        count_fizzbuzz +=1\n",
    "        print (str(num) + \"Fizzbuzz!\")\n",
    "    elif (num % 3 == 0):\n",
    "        count_fizz +=1\n",
    "        print (str(num) + \"Fizz!\")\n",
    "    elif (num % 5 == 0):\n",
    "        count_buzz +=1\n",
    "        print (str(num) + \"Buzz!\")\n",
    "    else:\n",
    "        print(str(num) + \".\")\n",
    "    num +=1\n",
    "print(\"Total number of fizzbuzz = \" + str(count_fizzbuzz))\n",
    "print(\"Total number of fizz     = \" + str(count_fizz))\n",
    "print(\"Total number of buzz     = \" + str(count_buzz))"
   ]
  },
  {
   "cell_type": "code",
   "execution_count": null,
   "id": "07a6df2b",
   "metadata": {},
   "outputs": [],
   "source": []
  }
 ],
 "metadata": {
  "kernelspec": {
   "display_name": "Python 3 (ipykernel)",
   "language": "python",
   "name": "python3"
  },
  "language_info": {
   "codemirror_mode": {
    "name": "ipython",
    "version": 3
   },
   "file_extension": ".py",
   "mimetype": "text/x-python",
   "name": "python",
   "nbconvert_exporter": "python",
   "pygments_lexer": "ipython3",
   "version": "3.9.12"
  }
 },
 "nbformat": 4,
 "nbformat_minor": 5
}
